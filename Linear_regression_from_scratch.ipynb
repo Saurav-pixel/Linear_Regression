{
  "nbformat": 4,
  "nbformat_minor": 0,
  "metadata": {
    "colab": {
      "name": "Linear_regression_from_scratch.ipynb",
      "provenance": []
    },
    "kernelspec": {
      "name": "python3",
      "display_name": "Python 3"
    },
    "language_info": {
      "name": "python"
    }
  },
  "cells": [
    {
      "cell_type": "code",
      "metadata": {
        "colab": {
          "base_uri": "https://localhost:8080/"
        },
        "id": "dnJ17Lhkb3oI",
        "outputId": "1b341a80-419d-4eaf-ed9d-78e7500d5392"
      },
      "source": [
        "# loading google drive into colab notebook\n",
        "from google.colab import drive\n",
        "drive.mount('/content/drive/')"
      ],
      "execution_count": null,
      "outputs": [
        {
          "output_type": "stream",
          "text": [
            "Mounted at /content/drive/\n"
          ],
          "name": "stdout"
        }
      ]
    },
    {
      "cell_type": "code",
      "metadata": {
        "id": "_NB5KkpccdyP"
      },
      "source": [
        "import numpy as np\n",
        "data = np.loadtxt('drive/My Drive/Colab Notebooks/data.csv', delimiter=\",\") #loading data from the drive"
      ],
      "execution_count": null,
      "outputs": []
    },
    {
      "cell_type": "code",
      "metadata": {
        "colab": {
          "base_uri": "https://localhost:8080/"
        },
        "id": "4tkHX7fMc1pk",
        "outputId": "23218162-7beb-4adb-c58e-817dc5c18a68"
      },
      "source": [
        "print(data)"
      ],
      "execution_count": null,
      "outputs": [
        {
          "output_type": "stream",
          "text": [
            "[[ 32.50234527  31.70700585]\n",
            " [ 53.42680403  68.77759598]\n",
            " [ 61.53035803  62.5623823 ]\n",
            " [ 47.47563963  71.54663223]\n",
            " [ 59.81320787  87.23092513]\n",
            " [ 55.14218841  78.21151827]\n",
            " [ 52.21179669  79.64197305]\n",
            " [ 39.29956669  59.17148932]\n",
            " [ 48.10504169  75.3312423 ]\n",
            " [ 52.55001444  71.30087989]\n",
            " [ 45.41973014  55.16567715]\n",
            " [ 54.35163488  82.47884676]\n",
            " [ 44.1640495   62.00892325]\n",
            " [ 58.16847072  75.39287043]\n",
            " [ 56.72720806  81.43619216]\n",
            " [ 48.95588857  60.72360244]\n",
            " [ 44.68719623  82.89250373]\n",
            " [ 60.29732685  97.37989686]\n",
            " [ 45.61864377  48.84715332]\n",
            " [ 38.81681754  56.87721319]\n",
            " [ 66.18981661  83.87856466]\n",
            " [ 65.41605175 118.5912173 ]\n",
            " [ 47.48120861  57.25181946]\n",
            " [ 41.57564262  51.39174408]\n",
            " [ 51.84518691  75.38065167]\n",
            " [ 59.37082201  74.76556403]\n",
            " [ 57.31000344  95.45505292]\n",
            " [ 63.61556125  95.22936602]\n",
            " [ 46.73761941  79.05240617]\n",
            " [ 50.55676015  83.43207142]\n",
            " [ 52.22399609  63.35879032]\n",
            " [ 35.56783005  41.4128853 ]\n",
            " [ 42.43647694  76.61734128]\n",
            " [ 58.16454011  96.76956643]\n",
            " [ 57.50444762  74.08413012]\n",
            " [ 45.44053073  66.58814441]\n",
            " [ 61.89622268  77.76848242]\n",
            " [ 33.09383174  50.71958891]\n",
            " [ 36.43600951  62.12457082]\n",
            " [ 37.67565486  60.81024665]\n",
            " [ 44.55560838  52.68298337]\n",
            " [ 43.31828263  58.56982472]\n",
            " [ 50.07314563  82.90598149]\n",
            " [ 43.87061265  61.4247098 ]\n",
            " [ 62.99748075 115.2441528 ]\n",
            " [ 32.66904376  45.57058882]\n",
            " [ 40.16689901  54.0840548 ]\n",
            " [ 53.57507753  87.99445276]\n",
            " [ 33.86421497  52.72549438]\n",
            " [ 64.70713867  93.57611869]\n",
            " [ 38.11982403  80.16627545]\n",
            " [ 44.50253806  65.10171157]\n",
            " [ 40.59953838  65.56230126]\n",
            " [ 41.72067636  65.28088692]\n",
            " [ 51.08863468  73.43464155]\n",
            " [ 55.0780959   71.13972786]\n",
            " [ 41.37772653  79.10282968]\n",
            " [ 62.49469743  86.52053844]\n",
            " [ 49.20388754  84.74269781]\n",
            " [ 41.10268519  59.35885025]\n",
            " [ 41.18201611  61.68403752]\n",
            " [ 50.18638949  69.84760416]\n",
            " [ 52.37844622  86.09829121]\n",
            " [ 50.13548549  59.10883927]\n",
            " [ 33.64470601  69.89968164]\n",
            " [ 39.55790122  44.86249071]\n",
            " [ 56.13038882  85.49806778]\n",
            " [ 57.36205213  95.53668685]\n",
            " [ 60.26921439  70.25193442]\n",
            " [ 35.67809389  52.72173496]\n",
            " [ 31.588117    50.39267014]\n",
            " [ 53.66093226  63.64239878]\n",
            " [ 46.68222865  72.24725107]\n",
            " [ 43.10782022  57.81251298]\n",
            " [ 70.34607562 104.25710159]\n",
            " [ 44.49285588  86.64202032]\n",
            " [ 57.5045333   91.486778  ]\n",
            " [ 36.93007661  55.23166089]\n",
            " [ 55.80573336  79.55043668]\n",
            " [ 38.95476907  44.84712424]\n",
            " [ 56.9012147   80.20752314]\n",
            " [ 56.86890066  83.14274979]\n",
            " [ 34.3331247   55.72348926]\n",
            " [ 59.04974121  77.63418251]\n",
            " [ 57.78822399  99.05141484]\n",
            " [ 54.28232871  79.12064627]\n",
            " [ 51.0887199   69.58889785]\n",
            " [ 50.28283635  69.51050331]\n",
            " [ 44.21174175  73.68756432]\n",
            " [ 38.00548801  61.36690454]\n",
            " [ 32.94047994  67.17065577]\n",
            " [ 53.69163957  85.66820315]\n",
            " [ 68.76573427 114.85387123]\n",
            " [ 46.2309665   90.12357207]\n",
            " [ 68.31936082  97.91982104]\n",
            " [ 50.03017434  81.53699078]\n",
            " [ 49.23976534  72.11183247]\n",
            " [ 50.03957594  85.23200734]\n",
            " [ 48.14985889  66.22495789]\n",
            " [ 25.12848465  53.45439421]]\n"
          ],
          "name": "stdout"
        }
      ]
    },
    {
      "cell_type": "code",
      "metadata": {
        "id": "omvydhfzc4Br"
      },
      "source": [
        "x = data[:,0] # keep all the rows and 0th column\n",
        "y = data[:,1] #keep all the rows and 1st column\n"
      ],
      "execution_count": null,
      "outputs": []
    },
    {
      "cell_type": "code",
      "metadata": {
        "colab": {
          "base_uri": "https://localhost:8080/"
        },
        "id": "mM5ezt_QdMeG",
        "outputId": "b2d87325-3f26-416b-cc7d-d93479e33f79"
      },
      "source": [
        "print(x,type(x))\n"
      ],
      "execution_count": null,
      "outputs": [
        {
          "output_type": "stream",
          "text": [
            "[32.50234527 53.42680403 61.53035803 47.47563963 59.81320787 55.14218841\n",
            " 52.21179669 39.29956669 48.10504169 52.55001444 45.41973014 54.35163488\n",
            " 44.1640495  58.16847072 56.72720806 48.95588857 44.68719623 60.29732685\n",
            " 45.61864377 38.81681754 66.18981661 65.41605175 47.48120861 41.57564262\n",
            " 51.84518691 59.37082201 57.31000344 63.61556125 46.73761941 50.55676015\n",
            " 52.22399609 35.56783005 42.43647694 58.16454011 57.50444762 45.44053073\n",
            " 61.89622268 33.09383174 36.43600951 37.67565486 44.55560838 43.31828263\n",
            " 50.07314563 43.87061265 62.99748075 32.66904376 40.16689901 53.57507753\n",
            " 33.86421497 64.70713867 38.11982403 44.50253806 40.59953838 41.72067636\n",
            " 51.08863468 55.0780959  41.37772653 62.49469743 49.20388754 41.10268519\n",
            " 41.18201611 50.18638949 52.37844622 50.13548549 33.64470601 39.55790122\n",
            " 56.13038882 57.36205213 60.26921439 35.67809389 31.588117   53.66093226\n",
            " 46.68222865 43.10782022 70.34607562 44.49285588 57.5045333  36.93007661\n",
            " 55.80573336 38.95476907 56.9012147  56.86890066 34.3331247  59.04974121\n",
            " 57.78822399 54.28232871 51.0887199  50.28283635 44.21174175 38.00548801\n",
            " 32.94047994 53.69163957 68.76573427 46.2309665  68.31936082 50.03017434\n",
            " 49.23976534 50.03957594 48.14985889 25.12848465] <class 'numpy.ndarray'>\n"
          ],
          "name": "stdout"
        }
      ]
    },
    {
      "cell_type": "code",
      "metadata": {
        "colab": {
          "base_uri": "https://localhost:8080/"
        },
        "id": "ylfGLiZPdSdV",
        "outputId": "58a08da6-06fc-49b1-eeaa-4fcdde2e3371"
      },
      "source": [
        "print(y,type(y))"
      ],
      "execution_count": null,
      "outputs": [
        {
          "output_type": "stream",
          "text": [
            "[ 31.70700585  68.77759598  62.5623823   71.54663223  87.23092513\n",
            "  78.21151827  79.64197305  59.17148932  75.3312423   71.30087989\n",
            "  55.16567715  82.47884676  62.00892325  75.39287043  81.43619216\n",
            "  60.72360244  82.89250373  97.37989686  48.84715332  56.87721319\n",
            "  83.87856466 118.5912173   57.25181946  51.39174408  75.38065167\n",
            "  74.76556403  95.45505292  95.22936602  79.05240617  83.43207142\n",
            "  63.35879032  41.4128853   76.61734128  96.76956643  74.08413012\n",
            "  66.58814441  77.76848242  50.71958891  62.12457082  60.81024665\n",
            "  52.68298337  58.56982472  82.90598149  61.4247098  115.2441528\n",
            "  45.57058882  54.0840548   87.99445276  52.72549438  93.57611869\n",
            "  80.16627545  65.10171157  65.56230126  65.28088692  73.43464155\n",
            "  71.13972786  79.10282968  86.52053844  84.74269781  59.35885025\n",
            "  61.68403752  69.84760416  86.09829121  59.10883927  69.89968164\n",
            "  44.86249071  85.49806778  95.53668685  70.25193442  52.72173496\n",
            "  50.39267014  63.64239878  72.24725107  57.81251298 104.25710159\n",
            "  86.64202032  91.486778    55.23166089  79.55043668  44.84712424\n",
            "  80.20752314  83.14274979  55.72348926  77.63418251  99.05141484\n",
            "  79.12064627  69.58889785  69.51050331  73.68756432  61.36690454\n",
            "  67.17065577  85.66820315 114.85387123  90.12357207  97.91982104\n",
            "  81.53699078  72.11183247  85.23200734  66.22495789  53.45439421] <class 'numpy.ndarray'>\n"
          ],
          "name": "stdout"
        }
      ]
    },
    {
      "cell_type": "code",
      "metadata": {
        "colab": {
          "base_uri": "https://localhost:8080/"
        },
        "id": "KbF6EwU5dWc7",
        "outputId": "27bcbdb8-f4fa-442d-c914-1fdfbf30e423"
      },
      "source": [
        "x.shape"
      ],
      "execution_count": null,
      "outputs": [
        {
          "output_type": "execute_result",
          "data": {
            "text/plain": [
              "(100,)"
            ]
          },
          "metadata": {
            "tags": []
          },
          "execution_count": 9
        }
      ]
    },
    {
      "cell_type": "code",
      "metadata": {
        "colab": {
          "base_uri": "https://localhost:8080/",
          "height": 52
        },
        "id": "vl6ScA78dY22",
        "outputId": "52001254-5f59-4d62-91cd-0d7b1677f24f"
      },
      "source": [
        "# spliiting the data into training and testing data\n",
        "from sklearn import model_selection\n",
        "x_train,x_test,y_train,y_test = model_selection.train_test_split(x,y,test_size = 0.3) \n",
        "'''\n",
        "test_size is given to split the data upon choice of ourself.\n",
        "By default, test_size is 0.25\n",
        "\n",
        "'''"
      ],
      "execution_count": null,
      "outputs": [
        {
          "output_type": "execute_result",
          "data": {
            "application/vnd.google.colaboratory.intrinsic+json": {
              "type": "string"
            },
            "text/plain": [
              "'\\ntest_size is given to split the data upon choice of ourself.\\nBy default, test_size is 0.25\\n\\n'"
            ]
          },
          "metadata": {
            "tags": []
          },
          "execution_count": 12
        }
      ]
    },
    {
      "cell_type": "code",
      "metadata": {
        "colab": {
          "base_uri": "https://localhost:8080/"
        },
        "id": "_IBMZwNKd6z3",
        "outputId": "b3734261-e2c9-43be-fb80-16c28fc41b67"
      },
      "source": [
        "x_train.shape"
      ],
      "execution_count": null,
      "outputs": [
        {
          "output_type": "execute_result",
          "data": {
            "text/plain": [
              "(70,)"
            ]
          },
          "metadata": {
            "tags": []
          },
          "execution_count": 14
        }
      ]
    },
    {
      "cell_type": "code",
      "metadata": {
        "id": "JR-ogbFIenGs"
      },
      "source": [
        "# fit function\n",
        "# it will be given x_train and y_train as an input\n",
        "def fit(x_train,y_train):\n",
        "  num = (x_train * y_train).mean() - x_train.mean() * y_train.mean()\n",
        "  den = (x_train**2).mean() - x_train.mean()**2\n",
        "\n",
        "  m = num/den\n",
        "  c = y_train.mean() - m * x_train.mean()\n",
        "\n",
        "  return m,c"
      ],
      "execution_count": null,
      "outputs": []
    },
    {
      "cell_type": "code",
      "metadata": {
        "id": "5r_AfFxzg_ye"
      },
      "source": [
        "def predict(x, m, c):\n",
        "  return m*x + c\n",
        "  "
      ],
      "execution_count": null,
      "outputs": []
    },
    {
      "cell_type": "code",
      "metadata": {
        "id": "aDb6laUUhNns"
      },
      "source": [
        "def score(y_truth,y_pred):\n",
        "  u = ((y_truth - y_pred)**2).sum()\n",
        "  v = ((y_truth - y_truth.mean())**2).sum()\n",
        "\n",
        "  return 1- u/v"
      ],
      "execution_count": null,
      "outputs": []
    },
    {
      "cell_type": "code",
      "metadata": {
        "id": "Bh1DGWFqiYUk"
      },
      "source": [
        "# finding the cost\n",
        "def cost(x, y, m, c):\n",
        "  return ((y - m * x -c)**2).mean()"
      ],
      "execution_count": null,
      "outputs": []
    },
    {
      "cell_type": "code",
      "metadata": {
        "colab": {
          "base_uri": "https://localhost:8080/"
        },
        "id": "y7ZrYemLf4qt",
        "outputId": "69ef9bad-477b-412b-c5c0-c0c5442c3102"
      },
      "source": [
        "m,c = fit(x_train, y_train)\n",
        "#test data prediction\n",
        "y_pred = predict(x_test, m, c)\n",
        "print(\"Test score:\",score(y_test,y_pred))\n",
        "\n",
        "#train_data\n",
        "y_train_pred = predict(x_train, m, c)\n",
        "print(\"Train score\",score(y_train,y_train_pred))\n",
        "print(\"The final cost on the training data\",cost(x_train, y_train, m, c))\n",
        "print(\"M, C\", m,c)\n",
        "print(\"The final cost on the training data\",cost(x_train, y_train, m+1, c)) # for any variation, we will get a higher cost fucntion"
      ],
      "execution_count": null,
      "outputs": [
        {
          "output_type": "stream",
          "text": [
            "Test score: 0.533538405495203\n",
            "Train score 0.6267028051235365\n",
            "The final cost on the training data 101.7653214918137\n",
            "M, C 1.2998517383886137 9.171370561856072\n",
            "The final cost on the training data 2611.4243228593796\n"
          ],
          "name": "stdout"
        }
      ]
    }
  ]
}