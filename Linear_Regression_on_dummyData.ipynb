{
  "nbformat": 4,
  "nbformat_minor": 0,
  "metadata": {
    "colab": {
      "name": "Linear_Regression_on_dummyData.ipynb",
      "provenance": [],
      "collapsed_sections": []
    },
    "kernelspec": {
      "name": "python3",
      "display_name": "Python 3"
    },
    "language_info": {
      "name": "python"
    }
  },
  "cells": [
    {
      "cell_type": "markdown",
      "metadata": {
        "id": "BoYpiX5LUZyl"
      },
      "source": [
        "The dummy data is loaded into data.csv. It has two columns and n no. of rows."
      ]
    },
    {
      "cell_type": "code",
      "metadata": {
        "colab": {
          "base_uri": "https://localhost:8080/"
        },
        "id": "U9Ay_AQIUjjU",
        "outputId": "50db9a9a-96d6-4dd8-88c4-f07124b8aac8"
      },
      "source": [
        "from google.colab import drive\n",
        "drive.mount('/content/drive/')"
      ],
      "execution_count": null,
      "outputs": [
        {
          "output_type": "stream",
          "text": [
            "Mounted at /content/drive/\n"
          ],
          "name": "stdout"
        }
      ]
    },
    {
      "cell_type": "markdown",
      "metadata": {
        "id": "ZgPdb2rtLuGX"
      },
      "source": [
        "Linear Regression for single variable from scratch"
      ]
    },
    {
      "cell_type": "code",
      "metadata": {
        "id": "XnyXAW_D26eA"
      },
      "source": [
        "import numpy as np\n",
        "from sklearn import datasets"
      ],
      "execution_count": null,
      "outputs": []
    },
    {
      "cell_type": "code",
      "metadata": {
        "colab": {
          "base_uri": "https://localhost:8080/"
        },
        "id": "pfPTQg0TMC08",
        "outputId": "763c7d99-65dd-40b2-a1d1-768bc4c75933"
      },
      "source": [
        "# we are using numpy to load the data here, because numpy will be working faster compared to other libarary for loading the data\n",
        "\n",
        "data = np.loadtxt('drive/My Drive/Colab Notebooks/data.csv', delimiter = \",\") \n",
        "print(data)"
      ],
      "execution_count": null,
      "outputs": [
        {
          "output_type": "stream",
          "text": [
            "[[ 32.50234527  31.70700585]\n",
            " [ 53.42680403  68.77759598]\n",
            " [ 61.53035803  62.5623823 ]\n",
            " [ 47.47563963  71.54663223]\n",
            " [ 59.81320787  87.23092513]\n",
            " [ 55.14218841  78.21151827]\n",
            " [ 52.21179669  79.64197305]\n",
            " [ 39.29956669  59.17148932]\n",
            " [ 48.10504169  75.3312423 ]\n",
            " [ 52.55001444  71.30087989]\n",
            " [ 45.41973014  55.16567715]\n",
            " [ 54.35163488  82.47884676]\n",
            " [ 44.1640495   62.00892325]\n",
            " [ 58.16847072  75.39287043]\n",
            " [ 56.72720806  81.43619216]\n",
            " [ 48.95588857  60.72360244]\n",
            " [ 44.68719623  82.89250373]\n",
            " [ 60.29732685  97.37989686]\n",
            " [ 45.61864377  48.84715332]\n",
            " [ 38.81681754  56.87721319]\n",
            " [ 66.18981661  83.87856466]\n",
            " [ 65.41605175 118.5912173 ]\n",
            " [ 47.48120861  57.25181946]\n",
            " [ 41.57564262  51.39174408]\n",
            " [ 51.84518691  75.38065167]\n",
            " [ 59.37082201  74.76556403]\n",
            " [ 57.31000344  95.45505292]\n",
            " [ 63.61556125  95.22936602]\n",
            " [ 46.73761941  79.05240617]\n",
            " [ 50.55676015  83.43207142]\n",
            " [ 52.22399609  63.35879032]\n",
            " [ 35.56783005  41.4128853 ]\n",
            " [ 42.43647694  76.61734128]\n",
            " [ 58.16454011  96.76956643]\n",
            " [ 57.50444762  74.08413012]\n",
            " [ 45.44053073  66.58814441]\n",
            " [ 61.89622268  77.76848242]\n",
            " [ 33.09383174  50.71958891]\n",
            " [ 36.43600951  62.12457082]\n",
            " [ 37.67565486  60.81024665]\n",
            " [ 44.55560838  52.68298337]\n",
            " [ 43.31828263  58.56982472]\n",
            " [ 50.07314563  82.90598149]\n",
            " [ 43.87061265  61.4247098 ]\n",
            " [ 62.99748075 115.2441528 ]\n",
            " [ 32.66904376  45.57058882]\n",
            " [ 40.16689901  54.0840548 ]\n",
            " [ 53.57507753  87.99445276]\n",
            " [ 33.86421497  52.72549438]\n",
            " [ 64.70713867  93.57611869]\n",
            " [ 38.11982403  80.16627545]\n",
            " [ 44.50253806  65.10171157]\n",
            " [ 40.59953838  65.56230126]\n",
            " [ 41.72067636  65.28088692]\n",
            " [ 51.08863468  73.43464155]\n",
            " [ 55.0780959   71.13972786]\n",
            " [ 41.37772653  79.10282968]\n",
            " [ 62.49469743  86.52053844]\n",
            " [ 49.20388754  84.74269781]\n",
            " [ 41.10268519  59.35885025]\n",
            " [ 41.18201611  61.68403752]\n",
            " [ 50.18638949  69.84760416]\n",
            " [ 52.37844622  86.09829121]\n",
            " [ 50.13548549  59.10883927]\n",
            " [ 33.64470601  69.89968164]\n",
            " [ 39.55790122  44.86249071]\n",
            " [ 56.13038882  85.49806778]\n",
            " [ 57.36205213  95.53668685]\n",
            " [ 60.26921439  70.25193442]\n",
            " [ 35.67809389  52.72173496]\n",
            " [ 31.588117    50.39267014]\n",
            " [ 53.66093226  63.64239878]\n",
            " [ 46.68222865  72.24725107]\n",
            " [ 43.10782022  57.81251298]\n",
            " [ 70.34607562 104.25710159]\n",
            " [ 44.49285588  86.64202032]\n",
            " [ 57.5045333   91.486778  ]\n",
            " [ 36.93007661  55.23166089]\n",
            " [ 55.80573336  79.55043668]\n",
            " [ 38.95476907  44.84712424]\n",
            " [ 56.9012147   80.20752314]\n",
            " [ 56.86890066  83.14274979]\n",
            " [ 34.3331247   55.72348926]\n",
            " [ 59.04974121  77.63418251]\n",
            " [ 57.78822399  99.05141484]\n",
            " [ 54.28232871  79.12064627]\n",
            " [ 51.0887199   69.58889785]\n",
            " [ 50.28283635  69.51050331]\n",
            " [ 44.21174175  73.68756432]\n",
            " [ 38.00548801  61.36690454]\n",
            " [ 32.94047994  67.17065577]\n",
            " [ 53.69163957  85.66820315]\n",
            " [ 68.76573427 114.85387123]\n",
            " [ 46.2309665   90.12357207]\n",
            " [ 68.31936082  97.91982104]\n",
            " [ 50.03017434  81.53699078]\n",
            " [ 49.23976534  72.11183247]\n",
            " [ 50.03957594  85.23200734]\n",
            " [ 48.14985889  66.22495789]\n",
            " [ 25.12848465  53.45439421]]\n"
          ],
          "name": "stdout"
        }
      ]
    },
    {
      "cell_type": "code",
      "metadata": {
        "id": "PlDbo0UpWUJb"
      },
      "source": [
        "# for doing linear regression, we need x and y values. The dataset has two columns. We will give one column to x and other column to y\n",
        "\n",
        "x = data[:,0].reshape(-1,1) # this means give all the rows and 0th column of the dataset\n",
        "y = data[:,1] # this means give all the rows and 1st column of the dataset"
      ],
      "execution_count": null,
      "outputs": []
    },
    {
      "cell_type": "code",
      "metadata": {
        "colab": {
          "base_uri": "https://localhost:8080/"
        },
        "id": "K6nVCClaXP2M",
        "outputId": "26866369-1863-4f93-b1e6-f592f59a9c5f"
      },
      "source": [
        "print(x)"
      ],
      "execution_count": null,
      "outputs": [
        {
          "output_type": "stream",
          "text": [
            "[[32.50234527]\n",
            " [53.42680403]\n",
            " [61.53035803]\n",
            " [47.47563963]\n",
            " [59.81320787]\n",
            " [55.14218841]\n",
            " [52.21179669]\n",
            " [39.29956669]\n",
            " [48.10504169]\n",
            " [52.55001444]\n",
            " [45.41973014]\n",
            " [54.35163488]\n",
            " [44.1640495 ]\n",
            " [58.16847072]\n",
            " [56.72720806]\n",
            " [48.95588857]\n",
            " [44.68719623]\n",
            " [60.29732685]\n",
            " [45.61864377]\n",
            " [38.81681754]\n",
            " [66.18981661]\n",
            " [65.41605175]\n",
            " [47.48120861]\n",
            " [41.57564262]\n",
            " [51.84518691]\n",
            " [59.37082201]\n",
            " [57.31000344]\n",
            " [63.61556125]\n",
            " [46.73761941]\n",
            " [50.55676015]\n",
            " [52.22399609]\n",
            " [35.56783005]\n",
            " [42.43647694]\n",
            " [58.16454011]\n",
            " [57.50444762]\n",
            " [45.44053073]\n",
            " [61.89622268]\n",
            " [33.09383174]\n",
            " [36.43600951]\n",
            " [37.67565486]\n",
            " [44.55560838]\n",
            " [43.31828263]\n",
            " [50.07314563]\n",
            " [43.87061265]\n",
            " [62.99748075]\n",
            " [32.66904376]\n",
            " [40.16689901]\n",
            " [53.57507753]\n",
            " [33.86421497]\n",
            " [64.70713867]\n",
            " [38.11982403]\n",
            " [44.50253806]\n",
            " [40.59953838]\n",
            " [41.72067636]\n",
            " [51.08863468]\n",
            " [55.0780959 ]\n",
            " [41.37772653]\n",
            " [62.49469743]\n",
            " [49.20388754]\n",
            " [41.10268519]\n",
            " [41.18201611]\n",
            " [50.18638949]\n",
            " [52.37844622]\n",
            " [50.13548549]\n",
            " [33.64470601]\n",
            " [39.55790122]\n",
            " [56.13038882]\n",
            " [57.36205213]\n",
            " [60.26921439]\n",
            " [35.67809389]\n",
            " [31.588117  ]\n",
            " [53.66093226]\n",
            " [46.68222865]\n",
            " [43.10782022]\n",
            " [70.34607562]\n",
            " [44.49285588]\n",
            " [57.5045333 ]\n",
            " [36.93007661]\n",
            " [55.80573336]\n",
            " [38.95476907]\n",
            " [56.9012147 ]\n",
            " [56.86890066]\n",
            " [34.3331247 ]\n",
            " [59.04974121]\n",
            " [57.78822399]\n",
            " [54.28232871]\n",
            " [51.0887199 ]\n",
            " [50.28283635]\n",
            " [44.21174175]\n",
            " [38.00548801]\n",
            " [32.94047994]\n",
            " [53.69163957]\n",
            " [68.76573427]\n",
            " [46.2309665 ]\n",
            " [68.31936082]\n",
            " [50.03017434]\n",
            " [49.23976534]\n",
            " [50.03957594]\n",
            " [48.14985889]\n",
            " [25.12848465]]\n"
          ],
          "name": "stdout"
        }
      ]
    },
    {
      "cell_type": "code",
      "metadata": {
        "colab": {
          "base_uri": "https://localhost:8080/"
        },
        "id": "OmHI_HMlXSAy",
        "outputId": "5b15537f-ad73-4d70-8fa2-45458a9bf8dc"
      },
      "source": [
        "print(y)"
      ],
      "execution_count": null,
      "outputs": [
        {
          "output_type": "stream",
          "text": [
            "[ 31.70700585  68.77759598  62.5623823   71.54663223  87.23092513\n",
            "  78.21151827  79.64197305  59.17148932  75.3312423   71.30087989\n",
            "  55.16567715  82.47884676  62.00892325  75.39287043  81.43619216\n",
            "  60.72360244  82.89250373  97.37989686  48.84715332  56.87721319\n",
            "  83.87856466 118.5912173   57.25181946  51.39174408  75.38065167\n",
            "  74.76556403  95.45505292  95.22936602  79.05240617  83.43207142\n",
            "  63.35879032  41.4128853   76.61734128  96.76956643  74.08413012\n",
            "  66.58814441  77.76848242  50.71958891  62.12457082  60.81024665\n",
            "  52.68298337  58.56982472  82.90598149  61.4247098  115.2441528\n",
            "  45.57058882  54.0840548   87.99445276  52.72549438  93.57611869\n",
            "  80.16627545  65.10171157  65.56230126  65.28088692  73.43464155\n",
            "  71.13972786  79.10282968  86.52053844  84.74269781  59.35885025\n",
            "  61.68403752  69.84760416  86.09829121  59.10883927  69.89968164\n",
            "  44.86249071  85.49806778  95.53668685  70.25193442  52.72173496\n",
            "  50.39267014  63.64239878  72.24725107  57.81251298 104.25710159\n",
            "  86.64202032  91.486778    55.23166089  79.55043668  44.84712424\n",
            "  80.20752314  83.14274979  55.72348926  77.63418251  99.05141484\n",
            "  79.12064627  69.58889785  69.51050331  73.68756432  61.36690454\n",
            "  67.17065577  85.66820315 114.85387123  90.12357207  97.91982104\n",
            "  81.53699078  72.11183247  85.23200734  66.22495789  53.45439421]\n"
          ],
          "name": "stdout"
        }
      ]
    },
    {
      "cell_type": "code",
      "metadata": {
        "colab": {
          "base_uri": "https://localhost:8080/"
        },
        "id": "h8wypRW1XbGD",
        "outputId": "082527a0-07cb-4bc9-b302-f2fa11421ad7"
      },
      "source": [
        "x.shape  #it is a 1D array"
      ],
      "execution_count": null,
      "outputs": [
        {
          "output_type": "execute_result",
          "data": {
            "text/plain": [
              "(100, 1)"
            ]
          },
          "metadata": {
            "tags": []
          },
          "execution_count": 16
        }
      ]
    },
    {
      "cell_type": "code",
      "metadata": {
        "id": "JV7ZviG6XgWb"
      },
      "source": [
        "# split the array into training and testing\n",
        "from sklearn import model_selection\n",
        "x_train, x_test, y_train, y_test = model_selection.train_test_split(x,y)"
      ],
      "execution_count": null,
      "outputs": []
    },
    {
      "cell_type": "code",
      "metadata": {
        "colab": {
          "base_uri": "https://localhost:8080/"
        },
        "id": "vIDRjk_rX-Xz",
        "outputId": "670d0bb1-d64e-4fe0-88fd-8ca3bcee0bd3"
      },
      "source": [
        "# training the sklearn algorithm\n",
        "from sklearn.linear_model import LinearRegression\n",
        "algo = LinearRegression()\n",
        "algo.fit(x_train,y_train)"
      ],
      "execution_count": null,
      "outputs": [
        {
          "output_type": "execute_result",
          "data": {
            "text/plain": [
              "LinearRegression(copy_X=True, fit_intercept=True, n_jobs=None, normalize=False)"
            ]
          },
          "metadata": {
            "tags": []
          },
          "execution_count": 18
        }
      ]
    },
    {
      "cell_type": "code",
      "metadata": {
        "colab": {
          "base_uri": "https://localhost:8080/"
        },
        "id": "KvpMj7GAYknn",
        "outputId": "b0c12de4-ae2d-480b-d437-3b9647b1ae22"
      },
      "source": [
        "algo.coef_"
      ],
      "execution_count": null,
      "outputs": [
        {
          "output_type": "execute_result",
          "data": {
            "text/plain": [
              "array([1.29804529])"
            ]
          },
          "metadata": {
            "tags": []
          },
          "execution_count": 19
        }
      ]
    },
    {
      "cell_type": "code",
      "metadata": {
        "colab": {
          "base_uri": "https://localhost:8080/"
        },
        "id": "L1lECki-Yo1r",
        "outputId": "0a9b2759-1276-4717-b4b2-221090fa178b"
      },
      "source": [
        "algo.intercept_"
      ],
      "execution_count": null,
      "outputs": [
        {
          "output_type": "execute_result",
          "data": {
            "text/plain": [
              "8.580153424147412"
            ]
          },
          "metadata": {
            "tags": []
          },
          "execution_count": 20
        }
      ]
    },
    {
      "cell_type": "code",
      "metadata": {
        "colab": {
          "base_uri": "https://localhost:8080/",
          "height": 265
        },
        "id": "4Cgzuf_7Yr0G",
        "outputId": "4b101ffa-6d49-439d-e972-5d578600c3ab"
      },
      "source": [
        "# plotting the best fit line on the linear regression graph\n",
        "import matplotlib.pyplot as plt\n",
        "\n",
        "m = algo.coef_[0]\n",
        "c = algo.intercept_\n",
        "\n",
        "x_line = np.arange(30,70,0.1)\n",
        "y_line = m * x_line + c\n",
        "plt.plot(x_line, y_line,\"r\")  # plot the best fit line first\n",
        "train_id = x_train.reshape(75)\n",
        "plt.scatter(x_train, y_train)\n",
        "plt.show()"
      ],
      "execution_count": null,
      "outputs": [
        {
          "output_type": "display_data",
          "data": {
            "image/png": "[encoded data removed]",
            "text/plain": [
              "<Figure size 432x288 with 1 Axes>"
            ]
          },
          "metadata": {
            "tags": [],
            "needs_background": "light"
          }
        }
      ]
    },
    {
      "cell_type": "code",
      "metadata": {
        "colab": {
          "base_uri": "https://localhost:8080/",
          "height": 265
        },
        "id": "lUurYLFOaZy7",
        "outputId": "f46dbb3e-0ce4-49d8-ea5d-ae7120a47137"
      },
      "source": [
        "# how the best fit line is behaving for testing data\n",
        "\n",
        "import matplotlib.pyplot as plt\n",
        "\n",
        "m = algo.coef_[0]\n",
        "c = algo.intercept_\n",
        "\n",
        "x_line = np.arange(30,70,0.1)\n",
        "y_line = m * x_line + c\n",
        "\n",
        "plt.plot(x_line,y_line,\"r\")\n",
        "train_id = x_test.reshape(25) # this line is important, 25 means the test data is 25 in rows and we have to reshape it\n",
        "plt.scatter(x_test, y_test)\n",
        "plt.show()"
      ],
      "execution_count": null,
      "outputs": [
        {
          "output_type": "display_data",
          "data": {
            "image/png": "[encoded data removed]",
            "text/plain": [
              "<Figure size 432x288 with 1 Axes>"
            ]
          },
          "metadata": {
            "tags": [],
            "needs_background": "light"
          }
        }
      ]
    }
  ]
}